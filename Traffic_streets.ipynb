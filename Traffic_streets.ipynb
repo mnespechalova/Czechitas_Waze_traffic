{
 "cells": [
  {
   "cell_type": "code",
   "execution_count": null,
   "metadata": {},
   "outputs": [],
   "source": [
    "import pandas as pd\n",
    "import numpy as np\n",
    "import ast\n",
    "import geopy.geocoders\n",
    "from geopy.geocoders import Nominatim\n",
    "from geopy.extra.rate_limiter import RateLimiter"
   ]
  },
  {
   "cell_type": "markdown",
   "metadata": {},
   "source": [
    "načtení souboru, odmazání sloupce type, přejmenování názvů sloupců"
   ]
  },
  {
   "cell_type": "code",
   "execution_count": null,
   "metadata": {},
   "outputs": [],
   "source": [
    "trafficDelaysDf = pd.read_csv('C:\\Users\\Misulka\\Desktop\\Czechitas\\Digitalni_akademie\\Python\\Projekt/plynulostVSE.csv')"
   ]
  },
  {
   "cell_type": "code",
   "execution_count": null,
   "metadata": {},
   "outputs": [],
   "source": [
    "trafficDelaysDf = trafficDelaysDf.drop(columns = ['type'])\n",
    "trafficDelaysDf.columns = trafficDelaysDf.columns.str.replace('properties.','')\n",
    "trafficDelaysDf= trafficDelaysDf.rename(columns={'geometry.type':'coordType'})\n",
    "trafficDelaysDf= trafficDelaysDf.rename(columns={'geometry.coordinates':'coordinates'})"
   ]
  },
  {
   "cell_type": "markdown",
   "metadata": {},
   "source": [
    "převod souřadnic ze str na seznam seznamů"
   ]
  },
  {
   "cell_type": "code",
   "execution_count": null,
   "metadata": {},
   "outputs": [],
   "source": [
    "coordList = []\n",
    "for i in trafficDelaysDf.index:\n",
    "    nestList = ast.literal_eval(trafficDelaysDf[\"coordinates\"][i])\n",
    "    coordList.append(nestList)\n",
    "trafficDelaysDf2 = trafficDelaysDf.copy() #tvorba kopie původní tabulky\n",
    "trafficDelaysDf2['coordinates']=coordList #náhrada původního sloupce coordinates"
   ]
  },
  {
   "cell_type": "markdown",
   "metadata": {},
   "source": [
    "rozšíření tabulky o řádky s jednotlivými souřadnicemi"
   ]
  },
  {
   "cell_type": "code",
   "execution_count": null,
   "metadata": {},
   "outputs": [],
   "source": [
    "newList = []\n",
    "allrows =trafficDelaysDf2.values.tolist()#prevod hodnot v tabulce na seznam allrows\n",
    "for line in allrows:\n",
    "    newList += [line[:-1] + [coor] for coor in line[-1]] #kod od Martina, list comprehension misto explode\n",
    "\n",
    "newListMulti = [] # další zanoření pro multilinestring\n",
    "for line in newList:\n",
    "    if 'MultiLineString' in line:\n",
    "        newListMulti += [line[:-1] + [coor] for coor in line[-1]]\n",
    "    else:\n",
    "        newListMulti.append(line)"
   ]
  },
  {
   "cell_type": "markdown",
   "metadata": {},
   "source": [
    "dataFrame3 ze seznamu"
   ]
  },
  {
   "cell_type": "code",
   "execution_count": null,
   "metadata": {},
   "outputs": [],
   "source": [
    "trafficDelaysDf3= pd.DataFrame(newListMulti)\n",
    "\n",
    "#výpis hodnot sloupce coordinates pro multilinestring\n",
    "trafficDelaysDf3[18][trafficDelaysDf3[17]=='MultiLineString'].head()\n"
   ]
  },
  {
   "cell_type": "markdown",
   "metadata": {},
   "source": [
    "přiřazení původních názvů sloupců a kontrola"
   ]
  },
  {
   "cell_type": "code",
   "execution_count": null,
   "metadata": {},
   "outputs": [],
   "source": [
    "trafficDelaysDf3.columns =trafficDelaysDf.columns"
   ]
  },
  {
   "cell_type": "code",
   "execution_count": null,
   "metadata": {},
   "outputs": [],
   "source": [
    "trafficDelaysDf3.shape\n"
   ]
  },
  {
   "cell_type": "markdown",
   "metadata": {},
   "source": [
    "kontrolní tabulka před rozšířením o multilinestring"
   ]
  },
  {
   "cell_type": "code",
   "execution_count": null,
   "metadata": {},
   "outputs": [],
   "source": [
    "trafficDelaysDf4= pd.DataFrame(newList)\n",
    "trafficDelaysDf4.shape"
   ]
  },
  {
   "cell_type": "markdown",
   "metadata": {},
   "source": [
    "uložení tabulky df3 do csv v kompletní a zkrácené verzi"
   ]
  },
  {
   "cell_type": "code",
   "execution_count": null,
   "metadata": {},
   "outputs": [],
   "source": [
    "trafficDelaysDf3.to_csv('trafficDf3.csv')\n",
    "trafficDelaysDf3.head(1000).to_csv('trafficDf_1000.csv')"
   ]
  },
  {
   "cell_type": "markdown",
   "metadata": {},
   "source": [
    "ODTUD PŘÍPRAVA PRO přiřazení názvů ulic podle souřadnic"
   ]
  },
  {
   "cell_type": "code",
   "execution_count": null,
   "metadata": {},
   "outputs": [],
   "source": [
    "geopy.geocoders.options.default_user_agent = 'Mozilla/5.0'\n",
    "geolocator = Nominatim()"
   ]
  },
  {
   "cell_type": "code",
   "execution_count": null,
   "metadata": {},
   "outputs": [],
   "source": [
    "type(trafficDelaysDf3['coordinates'][0][0])"
   ]
  },
  {
   "cell_type": "markdown",
   "metadata": {},
   "source": [
    "načtení stručné původní tabulky s uuid a coordinates"
   ]
  },
  {
   "cell_type": "code",
   "execution_count": null,
   "metadata": {},
   "outputs": [],
   "source": [
    "trafficDelaysCoord = pd.read_csv(\"coord.csv\")"
   ]
  },
  {
   "cell_type": "markdown",
   "metadata": {},
   "source": [
    "nahrazení NaN v původní tabulce \"ničím\""
   ]
  },
  {
   "cell_type": "code",
   "execution_count": null,
   "metadata": {},
   "outputs": [],
   "source": [
    "trafficDelaysDf[\"street\"].fillna('', inplace=True)"
   ]
  },
  {
   "cell_type": "code",
   "execution_count": null,
   "metadata": {},
   "outputs": [],
   "source": [
    "trafficDelaysDf[\"street\"].head()"
   ]
  },
  {
   "cell_type": "markdown",
   "metadata": {},
   "source": [
    "tabulka streetNaN z původního df a výpis sloupce uuid ze stručné tabulky pro podmínku kde street je prázdná"
   ]
  },
  {
   "cell_type": "code",
   "execution_count": null,
   "metadata": {},
   "outputs": [],
   "source": [
    "streetNaN = trafficDelaysDf[\"uuid\"][trafficDelaysDf[\"street\"]==\"\"]"
   ]
  },
  {
   "cell_type": "code",
   "execution_count": null,
   "metadata": {},
   "outputs": [],
   "source": [
    "trafficDelaysCoord[\"uuid\"].isin(streetNaN)\n"
   ]
  },
  {
   "cell_type": "markdown",
   "metadata": {},
   "source": [
    "tabulka prázdných ulic"
   ]
  },
  {
   "cell_type": "code",
   "execution_count": null,
   "metadata": {},
   "outputs": [],
   "source": [
    "trafficDelaysCoordNaN = trafficDelaysCoord[trafficDelaysCoord[\"uuid\"].isin(streetNaN)]\n",
    "trafficDelaysCoordNaN.head()\n",
    "#trafficDelaysCoordNaN.to_csv('missing.csv')"
   ]
  },
  {
   "cell_type": "markdown",
   "metadata": {},
   "source": [
    "přiřazení názvů"
   ]
  },
  {
   "cell_type": "code",
   "execution_count": null,
   "metadata": {
    "scrolled": false
   },
   "outputs": [],
   "source": [
    "streetList = []\n",
    "for rows in trafficDelaysCoordNaN['coordinates']:\n",
    "    souradnice = str(row[1])+','+ str(row[0])\n",
    "    \n",
    "    #geocode = RateLimiter(geolocator.geocode, min_delay_seconds=1)\n",
    "    #df['location'] = df['name'].apply(geocode)\n",
    "    \n",
    "    location = geolocator.geocode(souradnice, language = \"cz\")\n",
    "    nazev = location.raw['display_name']\n",
    "    ulice = nazev.split(\",\")\n",
    "    if len(ulice) == 9:\n",
    "        streetList.append(ulice[1])\n",
    "    elif len(ulice) == 8:\n",
    "        streetList.append(ulice[0])\n",
    "    else:\n",
    "        streetList.append(ulice)"
   ]
  },
  {
   "cell_type": "code",
   "execution_count": null,
   "metadata": {},
   "outputs": [],
   "source": []
  }
 ],
 "metadata": {
  "kernelspec": {
   "display_name": "Python 3",
   "language": "python",
   "name": "python3"
  },
  "language_info": {
   "codemirror_mode": {
    "name": "ipython",
    "version": 3
   },
   "file_extension": ".py",
   "mimetype": "text/x-python",
   "name": "python",
   "nbconvert_exporter": "python",
   "pygments_lexer": "ipython3",
   "version": "3.9.0"
  }
 },
 "nbformat": 4,
 "nbformat_minor": 4
}
